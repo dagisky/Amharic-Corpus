{
 "cells": [
  {
   "cell_type": "markdown",
   "metadata": {},
   "source": [
    "# [Walta News](http://www.waltainfo.com/index.php)"
   ]
  },
  {
   "cell_type": "code",
   "execution_count": 11,
   "metadata": {},
   "outputs": [],
   "source": [
    "from bs4 import BeautifulSoup\n",
    "import requests\n",
    "from tqdm import tqdm\n",
    "import pandas as pd \n",
    "import re"
   ]
  },
  {
   "cell_type": "code",
   "execution_count": 15,
   "metadata": {},
   "outputs": [],
   "source": [
    "def isEnglish(s):\n",
    "    \"\"\"Takes a token and checks if the input token is english or other language\n",
    "        Input (str): input token\n",
    "        output (bool): true if english else false\"\"\"\n",
    "    try:\n",
    "        s.encode(encoding='utf-8').decode('ascii')\n",
    "    except UnicodeDecodeError:\n",
    "        return bool(re.findall('[A-Za-z]', s))\n",
    "    else:\n",
    "        return True\n"
   ]
  },
  {
   "cell_type": "code",
   "execution_count": 18,
   "metadata": {},
   "outputs": [],
   "source": [
    "url = \"http://www.waltainfo.com/index.php?locale=am\"\n",
    "crawl_url = requests.get(url, headers={'User-Agent': 'Mozilla/5.0'})\n",
    "cookies = crawl_url.cookies\n",
    "\n",
    "url_list = list()\n",
    "# url_list.append({\"category\":\"health\", \"url\":\"http://www.waltainfo.com/index.php/health?page=%s\",\"max_page\":25})\n",
    "# url_list.append({\"category\":\"technology\", \"url\":\"http://www.waltainfo.com/index.php/SATech?page=%s\",\"max_page\":32})\n",
    "url_list.append({\"category\":\"sport\", \"url\":\"http://www.waltainfo.com/index.php/EASport?page=%s\",\"max_page\":67})\n",
    "url_list.append({\"category\":\"featured\", \"url\":\"http://www.waltainfo.com/index.php/FeaturedArticles?page=%s\",\"max_page\":206})\n",
    "url_list.append({\"category\":\"national\", \"url\":\"http://www.waltainfo.com/index.php/news/national?page=%s\",\"max_page\":556})\n",
    "\n",
    "\n",
    "def spiderWalta(max_pages, page, cookies=None):\n",
    "    data = list()\n",
    "    for i in tqdm(range(2, max_pages)):\n",
    "        url = page%i\n",
    "        if cookies != None:\n",
    "            crawl_url = requests.get(url, headers={'User-Agent': 'Mozilla/5.0'}, cookies=cookies)\n",
    "        else:\n",
    "            crawl_url = requests.get(url, headers={'User-Agent': 'Mozilla/5.0'})\n",
    "        crawl_url.raise_for_status()\n",
    "        soup = BeautifulSoup(crawl_url.text, 'lxml')\n",
    "        body = soup.find(\"div\", class_=\"media-body\")\n",
    "        if body != None:            \n",
    "            title = body.h4.text\n",
    "            title = \" \".join(title.split())\n",
    "            meta_data = body.find(\"div\", class_=\"wic-content-desc-header\")\n",
    "            if meta_data != None:\n",
    "                date = meta_data.find('span', class_=\"published-date\").text\n",
    "                author = meta_data.find('span', class_= \"wic-content-auhtor-txt\").text\n",
    "            else:\n",
    "                date, author = None, None\n",
    "            content = \" \".join(s for s in body.find(\"div\", class_=\"wic-content-description\").text.split() if not isEnglish(s))\n",
    "            data.append([date, author, title, content])\n",
    "        media = soup.find_all(\"div\", class_=\"media\")\n",
    "        if media == None:\n",
    "            continue\n",
    "        links = [x.a['href'] for x in media if bool(x.findChildren(\"a\", recursive=False))]\n",
    "        for link in links:\n",
    "            if cookies != None:\n",
    "                crawl_url = requests.get(link, headers={'User-Agent': 'Mozilla/5.0'}, cookies=cookies)\n",
    "            else:\n",
    "                crawl_url = requests.get(link, headers={'User-Agent': 'Mozilla/5.0'})\n",
    "            crawl_url.raise_for_status()\n",
    "            soup = BeautifulSoup(crawl_url.text, 'lxml')\n",
    "            body = soup.find(\"div\", class_=\"media-body\")\n",
    "            if body == None:\n",
    "                continue\n",
    "            title = body.h4.text\n",
    "            title = \" \".join(title.split())\n",
    "            meta_data = body.find(\"div\", class_=\"wic-content-desc-header\")\n",
    "            if meta_data != None:\n",
    "                date = meta_data.find('span', class_=\"published-date\").text\n",
    "                author = meta_data.find('span', class_= \"wic-content-auhtor-txt\").text\n",
    "            else:\n",
    "                date, author = None, None\n",
    "            content = \" \".join(s for s in body.find(\"div\", class_=\"wic-content-description\").text.split() if not isEnglish(s))\n",
    "            data.append([date, author, title, content])\n",
    "    return data"
   ]
  },
  {
   "cell_type": "code",
   "execution_count": null,
   "metadata": {},
   "outputs": [
    {
     "name": "stderr",
     "output_type": "stream",
     "text": [
      " 54%|████████████████████████████████████████████▏                                     | 35/65 [07:23<06:15, 12.51s/it]"
     ]
    }
   ],
   "source": [
    "for site in url_list:\n",
    "    data = spiderWalta(site['max_page'], site['url'], cookies)\n",
    "    df = pd.DataFrame(data, columns =['date', 'author', 'title', 'content']) \n",
    "    df.to_csv(\"walta_\"+site['category']+\".csv\", encoding ='utf-16')"
   ]
  },
  {
   "cell_type": "code",
   "execution_count": null,
   "metadata": {},
   "outputs": [],
   "source": []
  }
 ],
 "metadata": {
  "kernelspec": {
   "display_name": "Python 3",
   "language": "python",
   "name": "python3"
  },
  "language_info": {
   "codemirror_mode": {
    "name": "ipython",
    "version": 3
   },
   "file_extension": ".py",
   "mimetype": "text/x-python",
   "name": "python",
   "nbconvert_exporter": "python",
   "pygments_lexer": "ipython3",
   "version": "3.8.3"
  }
 },
 "nbformat": 4,
 "nbformat_minor": 4
}
