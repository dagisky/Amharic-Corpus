{
 "cells": [
  {
   "cell_type": "markdown",
   "metadata": {},
   "source": [
    "# [Goolgule](https://www.goolgule.com/)"
   ]
  },
  {
   "cell_type": "code",
   "execution_count": 1,
   "metadata": {},
   "outputs": [],
   "source": [
    "from bs4 import BeautifulSoup\n",
    "import requests\n",
    "from tqdm import tqdm\n",
    "import pandas as pd \n",
    "import re"
   ]
  },
  {
   "cell_type": "code",
   "execution_count": 2,
   "metadata": {},
   "outputs": [],
   "source": [
    "def isEnglish(s):\n",
    "    \"\"\"Takes a token and checks if the input token is english or other language\n",
    "        Input (str): input token\n",
    "        output (bool): true if english else false\"\"\"\n",
    "    try:\n",
    "        s.encode(encoding='utf-8').decode('ascii')\n",
    "    except UnicodeDecodeError:\n",
    "        return bool(re.findall('[A-Za-z]', s))\n",
    "    else:\n",
    "        return True"
   ]
  },
  {
   "cell_type": "code",
   "execution_count": 33,
   "metadata": {},
   "outputs": [],
   "source": [
    "url_list = list()\n",
    "url_list.append({\"category\":\"Editorials\", \"url\":\"https://www.goolgule.com/%e1%88%ad%e1%8b%95%e1%88%b0-%e1%8a%a0%e1%8a%95%e1%89%80%e1%8c%bd/page/\",\"max_page\":5})\n",
    "url_list.append({\"category\":\"News\", \"url\":\"https://www.goolgule.com/%e1%8b%9c%e1%8a%93/page/\",\"max_page\":79})\n",
    "url_list.append({\"category\":\"Social\", \"url\":\"https://www.goolgule.com/%e1%88%9b%e1%8a%85%e1%89%a0%e1%88%ab%e1%8b%8a/page/\",\"max_page\":18})\n",
    "url_list.append({\"category\":\"Religion\", \"url\":\"https://www.goolgule.com/%e1%88%bd%e1%8a%a8%e1%89%b3/page/\",\"max_page\":1})\n",
    "url_list.append({\"category\":\"Interviews\", \"url\":\"https://www.goolgule.com/%e1%8a%a5%e1%8a%93%e1%8b%8d%e1%8c%8b/page/\",\"max_page\":4})\n",
    "url_list.append({\"category\":\"Law\", \"url\":\"https://www.goolgule.com/%e1%8b%a8%e1%88%95%e1%8c%8d-%e1%8b%ab%e1%88%88%e1%88%85/page/\",\"max_page\":6})\n",
    "url_list.append({\"category\":\"Opinion\", \"url\":\"https://www.goolgule.com/%e1%8b%a8%e1%8a%94-%e1%88%83%e1%88%b3%e1%89%a5/page/\",\"max_page\":160})\n",
    "url_list.append({\"category\":\"Litrature\", \"url\":\"https://www.goolgule.com/%e1%8c%bd%e1%8d%88%e1%8a%aa%e1%8a%95/page/\",\"max_page\":27})\n",
    "\n",
    "\n",
    "def spiderGoolgule(max_pages, page, cookies=None):\n",
    "    data = list()\n",
    "    for i in tqdm(range(2, max_pages)):\n",
    "        url = page+str(i)+\"/\"\n",
    "        if cookies != None:\n",
    "            crawl_url = requests.get(url, headers={'User-Agent': 'Mozilla/5.0'}, cookies=cookies)\n",
    "        else:\n",
    "            crawl_url = requests.get(url, headers={'User-Agent': 'Mozilla/5.0'})\n",
    "        crawl_url.raise_for_status()\n",
    "        soup = BeautifulSoup(crawl_url.text, 'lxml')\n",
    "        body = soup.find(\"main\", class_=\"content\")         \n",
    "        articles = soup.find_all(\"article\", class_=\"post\")        \n",
    "        if articles == None:\n",
    "            continue\n",
    "        links = [x.header.a['href'] for x in articles]\n",
    "        for link in links:\n",
    "            if cookies != None:\n",
    "                crawl_url = requests.get(link, headers={'User-Agent': 'Mozilla/5.0'}, cookies=cookies)\n",
    "            else:\n",
    "                crawl_url = requests.get(link, headers={'User-Agent': 'Mozilla/5.0'})\n",
    "            crawl_url.raise_for_status()\n",
    "            soup = BeautifulSoup(crawl_url.text, 'lxml')\n",
    "            body = soup.find(\"main\", class_=\"content\")\n",
    "            \n",
    "            if body == None:\n",
    "                continue\n",
    "            body = body.article\n",
    "            header = body.find('header', class_=\"entry-header\")\n",
    "            if header != None:\n",
    "                title = header.h1.text\n",
    "                title = \" \".join(title.split())\n",
    "                meta_data = header.find(\"p\", class_=\"entry-meta\")\n",
    "                if meta_data != None:\n",
    "                    date = meta_data.find('time', class_=\"entry-time\").text\n",
    "            else:\n",
    "                date, title = None, None\n",
    "            content = \" \".join(s for s in body.find(\"div\", class_=\"entry-content\").text.split() if not isEnglish(s))\n",
    "            data.append([date, title, content])\n",
    "    return data"
   ]
  },
  {
   "cell_type": "code",
   "execution_count": null,
   "metadata": {},
   "outputs": [
    {
     "name": "stderr",
     "output_type": "stream",
     "text": [
      "100%|████████████████████████████████████████████████████████████████████████████████████| 3/3 [01:05<00:00, 21.95s/it]\n",
      " 36%|█████████████████████████████▊                                                    | 28/77 [10:25<18:40, 22.88s/it]"
     ]
    }
   ],
   "source": [
    "for site in url_list:\n",
    "    data = spiderGoolgule(site['max_page'], site['url'])\n",
    "    df = pd.DataFrame(data, columns =['date', 'title', 'content']) \n",
    "    df.to_csv(\"Goolgule_\"+site['category']+\".csv\", encoding ='utf-16')"
   ]
  },
  {
   "cell_type": "code",
   "execution_count": null,
   "metadata": {},
   "outputs": [],
   "source": []
  },
  {
   "cell_type": "code",
   "execution_count": null,
   "metadata": {},
   "outputs": [],
   "source": []
  }
 ],
 "metadata": {
  "kernelspec": {
   "display_name": "Python 3",
   "language": "python",
   "name": "python3"
  },
  "language_info": {
   "codemirror_mode": {
    "name": "ipython",
    "version": 3
   },
   "file_extension": ".py",
   "mimetype": "text/x-python",
   "name": "python",
   "nbconvert_exporter": "python",
   "pygments_lexer": "ipython3",
   "version": "3.8.3"
  }
 },
 "nbformat": 4,
 "nbformat_minor": 4
}
